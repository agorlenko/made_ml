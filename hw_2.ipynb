{
 "cells": [
  {
   "cell_type": "code",
   "execution_count": 1,
   "id": "c5d1e834-ab24-4749-9bb5-56312a781225",
   "metadata": {},
   "outputs": [],
   "source": [
    "import pandas as pd\n",
    "import pickle\n",
    "import math\n",
    "\n",
    "import numpy as np\n",
    "\n",
    "from scipy.stats import spearmanr, kendalltau, SpearmanRConstantInputWarning\n",
    "from sklearn.linear_model import LogisticRegression, Ridge\n",
    "from sklearn.preprocessing import OneHotEncoder\n",
    "from tqdm import tqdm\n",
    "\n",
    "from warnings import simplefilter\n",
    "from sklearn.exceptions import ConvergenceWarning"
   ]
  },
  {
   "cell_type": "code",
   "execution_count": 2,
   "id": "6bbf15a8-64bc-4afa-9803-d132ec6df539",
   "metadata": {},
   "outputs": [],
   "source": [
    "tqdm.pandas()"
   ]
  },
  {
   "cell_type": "markdown",
   "id": "f23f2c68-5e9e-4e66-b9aa-4917091c3565",
   "metadata": {},
   "source": [
    "Считаем данные:"
   ]
  },
  {
   "cell_type": "code",
   "execution_count": 3,
   "id": "f66d26df-41c6-45b4-956e-8ad00c486c0c",
   "metadata": {},
   "outputs": [],
   "source": [
    "players = None\n",
    "with open('chgk/players.pkl', mode='rb') as f:\n",
    "    players = pickle.load(f)\n",
    "    \n",
    "results = None\n",
    "with open('chgk/results.pkl', mode='rb') as f:\n",
    "    results = pickle.load(f)\n",
    "\n",
    "tournaments = None\n",
    "with open('chgk/tournaments.pkl', mode='rb') as f:\n",
    "    tournaments = pickle.load(f)  "
   ]
  },
  {
   "cell_type": "markdown",
   "id": "1984f72c-bc44-4b0e-8ac9-2e6d0c8d3972",
   "metadata": {},
   "source": [
    "Выделим турниры для обучения и валидации:"
   ]
  },
  {
   "cell_type": "code",
   "execution_count": 4,
   "id": "a1ac70aa-98ba-4fbd-a3d5-611e6fe7d0ab",
   "metadata": {},
   "outputs": [],
   "source": [
    "def get_tournaments_by_year(year):\n",
    "    return {tournament_id for tournament_id, tournament_data in tournaments.items() \n",
    "            if tournament_data['dateStart'][:4] == year}"
   ]
  },
  {
   "cell_type": "code",
   "execution_count": 5,
   "id": "256b7a23-de47-43b5-b25b-a067133a15cf",
   "metadata": {},
   "outputs": [],
   "source": [
    "tournaments_train = get_tournaments_by_year('2019')\n",
    "tournaments_test = get_tournaments_by_year('2020')"
   ]
  },
  {
   "cell_type": "markdown",
   "id": "9df4471a-e358-4b2e-8031-501afce975b1",
   "metadata": {},
   "source": [
    "Разделим данные турниров на train и test. При этом будем брать только те турниры, по которым определен результат (mask отлично от None). Также встречаются странные случаи, когда в одном турнире у различных команд длины mask (а следовательно количество вопросов) не совпадают. Я не понял, как такие случаи правильно интерпретировать, поэтому просто исключил их. Также оставил только те турниры, в которых mask состоит только из 0 и 1 (встречались случаи с X). Как вариант, можно было бы исключать такие вопросы, оставляя другие в данном турнире, однако для простоты такие туриниры исключил в целом. Вопросам присвоим сквозные идентификаторы. Данные по вопросам необходимо оставить тк в разных турнирах могли быть вопросы различной сложности и следовательно один и тот же игрок в различных турнирах мог показывать различную результативность (даже если не брать в расчет прочие факторы)."
   ]
  },
  {
   "cell_type": "code",
   "execution_count": 6,
   "id": "3fa0e31d-36df-459f-a510-203797bcce46",
   "metadata": {},
   "outputs": [],
   "source": [
    "def split_train_test(tournament_results):\n",
    "    train_data = []\n",
    "    test_data = []\n",
    "    correct_mask = {'0', '1'}\n",
    "\n",
    "    # (tournament_id, team_id, player_id, question_id, result)\n",
    "\n",
    "    last_question_id = 0\n",
    "\n",
    "    for tournament_id, tournament_data in tournament_results.items():\n",
    "\n",
    "        if len(tournament_data) == 0:\n",
    "            continue\n",
    "\n",
    "        if tournament_id in tournaments_train:\n",
    "            data = train_data\n",
    "        elif tournament_id in tournaments_test:\n",
    "            data = test_data\n",
    "        else:\n",
    "            continue\n",
    "\n",
    "        mask = tournament_data[0].get('mask', '')\n",
    "        mask_len = len(mask) if mask is not None else 0\n",
    "\n",
    "        current_data = []\n",
    "        for team_data in tournament_data:\n",
    "            team_id = team_data['team']['id']\n",
    "            if team_data.get('mask', None) is None or not set(team_data['mask']).issubset(correct_mask) or len(team_data['mask']) != mask_len:\n",
    "                current_data = []\n",
    "                break\n",
    "            for team_member_data in team_data['teamMembers']:\n",
    "                player_id = team_member_data['player']['id']\n",
    "                for i, result in enumerate(team_data['mask']):\n",
    "                    question_id = last_question_id + i\n",
    "                    current_data.append((tournament_id, team_id, player_id, question_id, int(result)))\n",
    "        if current_data:\n",
    "            data.extend(current_data)\n",
    "\n",
    "        last_question_id += mask_len\n",
    "    return train_data, test_data"
   ]
  },
  {
   "cell_type": "code",
   "execution_count": 7,
   "id": "c7fddc0f-90fc-4f5d-8b12-7db541f10457",
   "metadata": {},
   "outputs": [],
   "source": [
    "train_data, test_data = split_train_test(results)\n",
    "\n",
    "columns=['tournament_id', 'team_id', 'player_id', 'question_id', 'result']\n",
    "\n",
    "train_data_df = pd.DataFrame(train_data, columns=columns)\n",
    "test_data_df = pd.DataFrame(test_data, columns=columns)"
   ]
  },
  {
   "cell_type": "markdown",
   "id": "9ed5921c-7b76-4c9a-b238-f9a68afd8f74",
   "metadata": {},
   "source": [
    "Для того, чтобы постоить бейзлайн, можно воспользоваться следующими соображениями. Вероятность правильно ответить на вопрос тем больше, чем сильнее игрок и чем проще вопрос. Тогда мы можем обучить логистическую регрессию, у которой в X_train будет в каждой строке игрок и вопрос, а целевой переменной будет 0 или 1 - ответил ли игрок на вопрос верно (причем пока будем считать, что если команда ответила на вопрос верно, то и игрок ответил верно). Тогда получим:\n",
    "\n",
    "$$\n",
    "\\sigma(w_1 \\cdot player_i + w_2 \\cdot question_j) = p_{ij}\n",
    "$$\n",
    "где $p_{ij}$ - вероятность того, что игрок $player_i$ ответит правильно на вопрос $question_j$\n",
    "\n",
    "При этом вес $w_1$ при игроке будет характеризовать насколько игрок силен, а вес при вопросе $w_2$ - насколько вопрос прост."
   ]
  },
  {
   "cell_type": "code",
   "execution_count": 8,
   "id": "47928f6e-fc90-4393-94b0-55f2830aa545",
   "metadata": {},
   "outputs": [],
   "source": [
    "ohe = OneHotEncoder(handle_unknown='ignore')\n",
    "\n",
    "X_train = ohe.fit_transform(train_data_df[['player_id', 'question_id']])\n",
    "y_train = train_data_df['result']"
   ]
  },
  {
   "cell_type": "code",
   "execution_count": 9,
   "id": "d6244a21-8a5f-478f-a0f1-8a9d15133d95",
   "metadata": {},
   "outputs": [
    {
     "data": {
      "text/plain": [
       "LogisticRegression(random_state=42)"
      ]
     },
     "execution_count": 9,
     "metadata": {},
     "output_type": "execute_result"
    }
   ],
   "source": [
    "simplefilter(\"ignore\", category=ConvergenceWarning)\n",
    "\n",
    "baseline_model = LogisticRegression(random_state=42)\n",
    "baseline_model.fit(X_train, y_train)"
   ]
  },
  {
   "cell_type": "markdown",
   "id": "dbc9c078-29fc-4b94-b9af-7c315a78dcc2",
   "metadata": {},
   "source": [
    "В тесте у нас идентификаторы вопросов не пересекаются с train. Следовательно при one-hot кодировании признаки в тесте станут нулевыми. Таким образом в тесте вопросы не будут влиять на результат. То есть мы будет учитывать только состав команд."
   ]
  },
  {
   "cell_type": "code",
   "execution_count": 10,
   "id": "cd80d649-3726-461f-81d2-712b63449cab",
   "metadata": {},
   "outputs": [],
   "source": [
    "X_test = ohe.transform(test_data_df[['player_id', 'question_id']])\n",
    "predicted = baseline_model.predict_proba(X_test)"
   ]
  },
  {
   "cell_type": "markdown",
   "id": "69b8ebdb-b44d-4f54-a70b-ec45e55a6b51",
   "metadata": {},
   "source": [
    "Для подсчета рейтинга команды будем считать долю правильно отвеченных вопросов. Т.е., например, если команда ответила правильно на 8 из 10 вопросов, то рейтинг будет равен 0.8. Очевидным образом это считается для известных ответов. Чтобы посчитать предсказание рейтинга команды можно пойти 2 путями. Во-первых, если у нас есть верооятность игрока ответить на вопрос, то мы можем для кажого вопроса просто провести серию испытаний бернулли с данной вероятностью для каждого игрока. И тогда либо взять максимум по вопросу (это равнозначно тому, что если хотя бы один игрок ответил на вопрос, то команда тоже ответила на вопрос). Но мне показалось более естественным взять не максимум, а среднее. Это отражает интуитивное представление, что если в команде один человек дал правильный ответ, то это команда будет более слабой чем та, в которой правильный ответ дали 3 человека. Во-вторых, можно не проводить серию испытаний бернулли, а напрямую брать (усреднять) вероятность (или величину характеризующую вероятность, что потребуется в дальнейшем) игроков ответить на вопрос. Второй подход показывает лучшие результаты и обобщается на дальнейшие вычисления, поэтому будем использовать его."
   ]
  },
  {
   "cell_type": "code",
   "execution_count": 11,
   "id": "54dc70ab-4b6c-4f24-8ac0-45b8517807c5",
   "metadata": {},
   "outputs": [],
   "source": [
    "def calc_team_ratings(team_data, test_rating_data):\n",
    "    team_ratings = team_data[['question_id', 'result', 'predict']].groupby(by='question_id').mean().mean()\n",
    "    first_row = team_data.iloc[0]\n",
    "    tournament_id = int(first_row.tournament_id)\n",
    "    team_id = int(first_row.team_id)\n",
    "    test_rating_data.append([tournament_id, team_id, team_ratings.result, team_ratings.predict]) "
   ]
  },
  {
   "cell_type": "code",
   "execution_count": 12,
   "id": "ef737fe4-3db3-4ddc-8562-34d623b5b452",
   "metadata": {},
   "outputs": [],
   "source": [
    "def calc_metrics(df_input, predicted):\n",
    "    df = df_input.copy()\n",
    "    df['predict'] = predicted\n",
    "        \n",
    "    test_rating_data = []\n",
    "    df.groupby(by=['tournament_id', 'team_id']).progress_apply(lambda d: calc_team_ratings(d, test_rating_data))\n",
    "    \n",
    "    test_rating_df = pd.DataFrame(test_rating_data, columns=['tournament_id', 'team_id', 'rating_true', 'rating_predicted'])\n",
    "    \n",
    "    spearmanr_results = []\n",
    "    kendalltau_results = []\n",
    "    for tournament_id in test_rating_df['tournament_id'].unique():\n",
    "        cur = test_rating_df[test_rating_df['tournament_id'] == tournament_id]\n",
    "        spearmanr_correlation = spearmanr(cur['rating_true'], cur['rating_predicted']).correlation\n",
    "        kendalltau_correlation = kendalltau(cur['rating_true'], cur['rating_predicted']).correlation\n",
    "        if not np.isnan(spearmanr_correlation):\n",
    "            spearmanr_results.append(spearmanr_correlation)\n",
    "        if not np.isnan(kendalltau_correlation):\n",
    "            kendalltau_results.append(kendalltau_correlation)\n",
    "    \n",
    "    return {\n",
    "        'spearmanr': np.mean(np.array(spearmanr_results)),\n",
    "        'kendalltau': np.mean(np.array(kendalltau_results))\n",
    "    }"
   ]
  },
  {
   "cell_type": "markdown",
   "id": "f13c270e-7982-4fca-ab4e-dcdb615a8caa",
   "metadata": {},
   "source": [
    "Метрики на train:"
   ]
  },
  {
   "cell_type": "code",
   "execution_count": 13,
   "id": "2411ba73-634d-40de-a3d0-205b6e610fa5",
   "metadata": {},
   "outputs": [
    {
     "name": "stderr",
     "output_type": "stream",
     "text": [
      "100%|██████████████████████████████████████████████████████████████████████████████████████████████████████████████████████████████████████████████████████████████████████████████████████████████████| 65154/65154 [01:50<00:00, 591.03it/s]\n"
     ]
    },
    {
     "data": {
      "text/plain": [
       "{'spearmanr': 0.8423995028268146, 'kendalltau': 0.6952657410177617}"
      ]
     },
     "execution_count": 13,
     "metadata": {},
     "output_type": "execute_result"
    }
   ],
   "source": [
    "simplefilter(\"ignore\", category=SpearmanRConstantInputWarning)\n",
    "\n",
    "train_predicted = baseline_model.predict_proba(X_train)\n",
    "calc_metrics(train_data_df, train_predicted[:, 1])"
   ]
  },
  {
   "cell_type": "markdown",
   "id": "a2764ec9-57f9-47ce-9f72-aac9861af89a",
   "metadata": {},
   "source": [
    "Метрики на test:"
   ]
  },
  {
   "cell_type": "code",
   "execution_count": 14,
   "id": "0a4633ae-b723-4a27-b438-0e5668d209da",
   "metadata": {},
   "outputs": [
    {
     "name": "stderr",
     "output_type": "stream",
     "text": [
      "100%|██████████████████████████████████████████████████████████████████████████████████████████████████████████████████████████████████████████████████████████████████████████████████████████████████| 16992/16992 [00:28<00:00, 601.69it/s]\n"
     ]
    },
    {
     "data": {
      "text/plain": [
       "{'spearmanr': 0.7547225234413555, 'kendalltau': 0.6014348428024349}"
      ]
     },
     "execution_count": 14,
     "metadata": {},
     "output_type": "execute_result"
    }
   ],
   "source": [
    "calc_metrics(test_data_df, predicted[:, 1])"
   ]
  },
  {
   "cell_type": "markdown",
   "id": "e55671a7-5ccb-4f45-9b0d-a7397350e827",
   "metadata": {},
   "source": [
    "Теперь попробуем усовершенствовать наш подход. Вместо того, чтобы считать, что если команда ответила правильно, то и игрок ответил правильно (как это было в бейзлайне), попробуем посчитать условную вероятность $P(player_i \\; answers \\; question | team \\; answers \\; question)$\n",
    "\n",
    "$$\n",
    "P(player_i \\; answers \\; question | team \\; answers \\; question) = \\dfrac{P(team \\; answers \\; question | player_i \\; answers \\; question) \\cdot P(player_i \\; answers \\; question)} {P(team \\; answers \\; question)}\n",
    "$$\n",
    "\n",
    "Как и прежде будем считать, что если игрок ответил на вопрос, то и команда ответила на вопрос. Тогда первый множитель в числителе будет равен 1. Второй множитель мы вычислили раньше и данее будем пересчитывать. Вероятность того, что команда ответила на вопрос, будем считать как вероятность того, что хотя бы один игрок из состава ответил на вопрос. \n",
    "\n",
    "В целом, предположение, что если игрок ответил на вопрос верно, то и команда ответила на вопрос верно, все равно кажется слишком сильным, потому что команда могла выбрать версию другого игрока. Но более сложные подходы, к сожалению, не получились.\n",
    "\n",
    "Тогда Е-шаг будет заключаться в расчете указанных условных вероятностей верного ответа игрока при уловии, что команда ответила верно. В тоом случае, когда команда ответила неверно, будем считать, что никто из игроков не ответил верно (опять таки довольно сильное предположение). Далее, эти вероятности мы возьмем в качестве целевых переменных и на M-шаге переобучим нашу модель на новый таргет, откуда получим новые априорные вероятности для игроков и тд в цикле.\n",
    "\n",
    "Здесь возникает новая сложность. Когда мы посчитаем новый таргет, то это уже будут различные вещественные числа, а не только 0 и 1. Следовательно, логистическая регрессия из sklearn уже работать не будет. С этим можно побороться разными способами, но у меня лучше показал себя следующий вариант: вместо логистической регрессии на M-шаге будем обучать линейную регрессию, т.е. будем стараться спрогнозировать данную условную вероятность. Тут как раз пригодится то, что при расчете метрики мы не стали завязываться на то, что моогут быть в значениях только 0 и 1. Но для Е-шага надо будет получить именно вероятности, а линейная регрессия может предсказать и что-то вне допустимого диапазона. Тогда чтобы получить данные для Е-шага дополнительно еще возьмем от результата сигмоиду. Я не до конца уверен в корректности этого, но, как будет видно ниже, этот подход работает."
   ]
  },
  {
   "cell_type": "code",
   "execution_count": 15,
   "id": "877afcca-76e1-48e3-ada8-8090c94dabf7",
   "metadata": {},
   "outputs": [],
   "source": [
    "def sigmoid(x):\n",
    "    return 1 / (1 + math.exp(-x))"
   ]
  },
  {
   "cell_type": "code",
   "execution_count": 16,
   "id": "1ac9ea65-4d33-401a-b4bb-0c06fbfd14e8",
   "metadata": {},
   "outputs": [],
   "source": [
    "def e_step(df, predict_proba):\n",
    "    \n",
    "    df['predict_proba'] = predict_proba\n",
    "    \n",
    "    new_scores_store = {}\n",
    "    \n",
    "    def calc_new_scores(d):\n",
    "        first_row = d.iloc[0]\n",
    "        new_scores_store[(first_row.tournament_id, first_row.team_id)] = 1 - np.prod(1 - d['predict_proba'])\n",
    "        \n",
    "    \n",
    "    df[train_data_df['result'] == 1].groupby(by=['tournament_id', 'team_id']).apply(calc_new_scores)\n",
    "    df['new_target'] = df.progress_apply(lambda r: r.predict_proba / new_scores_store.get((r.tournament_id, r.team_id), 1), axis=1)\n",
    "    df.loc[df['result'] == 0, 'new_target'] = 0    "
   ]
  },
  {
   "cell_type": "code",
   "execution_count": 17,
   "id": "e65af5fb-aec1-422c-9832-59607273914f",
   "metadata": {},
   "outputs": [],
   "source": [
    "def m_step(train_data_df, X_train, X_test):\n",
    "    model = Ridge(random_state=42)\n",
    "    model.fit(X_train, train_data_df['new_target'])\n",
    "    \n",
    "    train_predicted = model.predict(X_train)\n",
    "    print('train metrics')\n",
    "    print(calc_metrics(train_data_df, train_predicted))\n",
    "    \n",
    "    predicted = model.predict(X_test)\n",
    "    print('test metrics')\n",
    "    print(calc_metrics(test_data_df, predicted))\n",
    "    \n",
    "    return np.array(list(map(sigmoid, train_predicted)))"
   ]
  },
  {
   "cell_type": "code",
   "execution_count": 18,
   "id": "676d445b-8ff0-44e5-a867-d17216bbce17",
   "metadata": {},
   "outputs": [
    {
     "name": "stdout",
     "output_type": "stream",
     "text": [
      "step 1\n"
     ]
    },
    {
     "name": "stderr",
     "output_type": "stream",
     "text": [
      "100%|██████████████████████████████████████████████████████████████████████████████████████████████████████████████████████████████████████████████████████████████████████████████████████████| 13454728/13454728 [04:56<00:00, 45332.32it/s]\n"
     ]
    },
    {
     "name": "stdout",
     "output_type": "stream",
     "text": [
      "train metrics\n"
     ]
    },
    {
     "name": "stderr",
     "output_type": "stream",
     "text": [
      "100%|██████████████████████████████████████████████████████████████████████████████████████████████████████████████████████████████████████████████████████████████████████████████████████████████████| 65154/65154 [02:01<00:00, 538.40it/s]\n"
     ]
    },
    {
     "name": "stdout",
     "output_type": "stream",
     "text": [
      "{'spearmanr': 0.8492243482658097, 'kendalltau': 0.7031497476968471}\n",
      "test metrics\n"
     ]
    },
    {
     "name": "stderr",
     "output_type": "stream",
     "text": [
      "100%|██████████████████████████████████████████████████████████████████████████████████████████████████████████████████████████████████████████████████████████████████████████████████████████████████| 16992/16992 [00:27<00:00, 615.49it/s]\n"
     ]
    },
    {
     "name": "stdout",
     "output_type": "stream",
     "text": [
      "{'spearmanr': 0.7565095911015415, 'kendalltau': 0.6034652717031965}\n",
      "step 2\n"
     ]
    },
    {
     "name": "stderr",
     "output_type": "stream",
     "text": [
      "100%|██████████████████████████████████████████████████████████████████████████████████████████████████████████████████████████████████████████████████████████████████████████████████████████| 13454728/13454728 [05:00<00:00, 44748.40it/s]\n"
     ]
    },
    {
     "name": "stdout",
     "output_type": "stream",
     "text": [
      "train metrics\n"
     ]
    },
    {
     "name": "stderr",
     "output_type": "stream",
     "text": [
      "100%|██████████████████████████████████████████████████████████████████████████████████████████████████████████████████████████████████████████████████████████████████████████████████████████████████| 65154/65154 [01:48<00:00, 601.42it/s]\n"
     ]
    },
    {
     "name": "stdout",
     "output_type": "stream",
     "text": [
      "{'spearmanr': 0.8557136928061692, 'kendalltau': 0.7138459446196671}\n",
      "test metrics\n"
     ]
    },
    {
     "name": "stderr",
     "output_type": "stream",
     "text": [
      "100%|██████████████████████████████████████████████████████████████████████████████████████████████████████████████████████████████████████████████████████████████████████████████████████████████████| 16992/16992 [00:28<00:00, 606.58it/s]\n"
     ]
    },
    {
     "name": "stdout",
     "output_type": "stream",
     "text": [
      "{'spearmanr': 0.7617417114853968, 'kendalltau': 0.6090992195640619}\n",
      "step 3\n"
     ]
    },
    {
     "name": "stderr",
     "output_type": "stream",
     "text": [
      "100%|██████████████████████████████████████████████████████████████████████████████████████████████████████████████████████████████████████████████████████████████████████████████████████████| 13454728/13454728 [05:00<00:00, 44805.77it/s]\n"
     ]
    },
    {
     "name": "stdout",
     "output_type": "stream",
     "text": [
      "train metrics\n"
     ]
    },
    {
     "name": "stderr",
     "output_type": "stream",
     "text": [
      "100%|██████████████████████████████████████████████████████████████████████████████████████████████████████████████████████████████████████████████████████████████████████████████████████████████████| 65154/65154 [01:48<00:00, 597.81it/s]\n"
     ]
    },
    {
     "name": "stdout",
     "output_type": "stream",
     "text": [
      "{'spearmanr': 0.8564652063894838, 'kendalltau': 0.7150229866921871}\n",
      "test metrics\n"
     ]
    },
    {
     "name": "stderr",
     "output_type": "stream",
     "text": [
      "100%|██████████████████████████████████████████████████████████████████████████████████████████████████████████████████████████████████████████████████████████████████████████████████████████████████| 16992/16992 [00:28<00:00, 602.74it/s]\n"
     ]
    },
    {
     "name": "stdout",
     "output_type": "stream",
     "text": [
      "{'spearmanr': 0.762040443949668, 'kendalltau': 0.6097867424417671}\n",
      "step 4\n"
     ]
    },
    {
     "name": "stderr",
     "output_type": "stream",
     "text": [
      "100%|██████████████████████████████████████████████████████████████████████████████████████████████████████████████████████████████████████████████████████████████████████████████████████████| 13454728/13454728 [04:59<00:00, 44908.27it/s]\n"
     ]
    },
    {
     "name": "stdout",
     "output_type": "stream",
     "text": [
      "train metrics\n"
     ]
    },
    {
     "name": "stderr",
     "output_type": "stream",
     "text": [
      "100%|██████████████████████████████████████████████████████████████████████████████████████████████████████████████████████████████████████████████████████████████████████████████████████████████████| 65154/65154 [01:49<00:00, 594.78it/s]\n"
     ]
    },
    {
     "name": "stdout",
     "output_type": "stream",
     "text": [
      "{'spearmanr': 0.856496508488362, 'kendalltau': 0.7149774586629053}\n",
      "test metrics\n"
     ]
    },
    {
     "name": "stderr",
     "output_type": "stream",
     "text": [
      "100%|██████████████████████████████████████████████████████████████████████████████████████████████████████████████████████████████████████████████████████████████████████████████████████████████████| 16992/16992 [00:28<00:00, 601.72it/s]\n"
     ]
    },
    {
     "name": "stdout",
     "output_type": "stream",
     "text": [
      "{'spearmanr': 0.7620848121123741, 'kendalltau': 0.6098620531692226}\n"
     ]
    }
   ],
   "source": [
    "predict_proba = train_predicted[:, 1]\n",
    "for step in range(4):\n",
    "    print(f'step {step + 1}')\n",
    "    e_step(train_data_df, predict_proba)\n",
    "    predict_proba = m_step(train_data_df, X_train, X_test)"
   ]
  },
  {
   "cell_type": "markdown",
   "id": "0ec47768-1d73-40f0-b86d-51fb9195c961",
   "metadata": {},
   "source": [
    "Видим, что результаты понемногу, но улучшаются.\n",
    "\n",
    "\n",
    "Теперь построим рейтинг турниров по сложности вопросов. Для того, чтобы получить рейтинг турнира по сложности, просуммируем сложности всех вопросов, входящих в турнир. Сложности вопросов возьмем из бейзлайна (коэффициент при вопросе), точнее там стоит величина противоположная сложности, так что учтем это при сортировке. Здесь взят бейзлайн, потому что в силу постоения EM-алгоритма, там эта информация уже потеряна. Однако, т.к качество относительно бейзлайна выросло не очень сильно, то в целом это не должно заметно повлиять на результаты."
   ]
  },
  {
   "cell_type": "code",
   "execution_count": 19,
   "id": "7f986dec-86fd-41ce-9cf3-1398c0e17b15",
   "metadata": {},
   "outputs": [],
   "source": [
    "total_questions = ohe.categories_[1].shape[0]\n",
    "\n",
    "questions_inv_complexity = {}\n",
    "for question_id, inv_complexity in zip(ohe.categories_[1], baseline_model.coef_[0][-total_questions:]):\n",
    "    questions_inv_complexity[question_id] = inv_complexity"
   ]
  },
  {
   "cell_type": "code",
   "execution_count": 20,
   "id": "60321876-0bb5-4d1d-a6aa-c9987f59852e",
   "metadata": {},
   "outputs": [],
   "source": [
    "train_data_df['tournament_name'] = train_data_df['tournament_id'].apply(lambda key: tournaments[key]['name'])\n",
    "train_data_df['question_inv_complexity'] = train_data_df['question_id'].apply(lambda key: questions_inv_complexity[key])\n",
    "\n",
    "tournament_and_inv_complexity = train_data_df[['tournament_id', 'tournament_name', 'question_inv_complexity']].groupby(by=['tournament_id', 'tournament_name']).sum()\n",
    "tournament_ordered_by_questions = tournament_and_inv_complexity.sort_values(by='question_inv_complexity', ascending=True)"
   ]
  },
  {
   "cell_type": "markdown",
   "id": "1b7d03d7-e4b0-40ad-a664-bd9f20fa54ba",
   "metadata": {},
   "source": [
    "Посмотрим на топ самых сложных турниров:"
   ]
  },
  {
   "cell_type": "code",
   "execution_count": 21,
   "id": "a81d3de3-572f-4d90-b0e5-64c7eff7a92b",
   "metadata": {},
   "outputs": [
    {
     "data": {
      "text/html": [
       "<div>\n",
       "<style scoped>\n",
       "    .dataframe tbody tr th:only-of-type {\n",
       "        vertical-align: middle;\n",
       "    }\n",
       "\n",
       "    .dataframe tbody tr th {\n",
       "        vertical-align: top;\n",
       "    }\n",
       "\n",
       "    .dataframe thead th {\n",
       "        text-align: right;\n",
       "    }\n",
       "</style>\n",
       "<table border=\"1\" class=\"dataframe\">\n",
       "  <thead>\n",
       "    <tr style=\"text-align: right;\">\n",
       "      <th></th>\n",
       "      <th></th>\n",
       "      <th>question_inv_complexity</th>\n",
       "    </tr>\n",
       "    <tr>\n",
       "      <th>tournament_id</th>\n",
       "      <th>tournament_name</th>\n",
       "      <th></th>\n",
       "    </tr>\n",
       "  </thead>\n",
       "  <tbody>\n",
       "    <tr>\n",
       "      <th>5025</th>\n",
       "      <th>Кубок городов</th>\n",
       "      <td>-413070.180968</td>\n",
       "    </tr>\n",
       "    <tr>\n",
       "      <th>6149</th>\n",
       "      <th>Чемпионат Санкт-Петербурга. Первая лига</th>\n",
       "      <td>-227101.480729</td>\n",
       "    </tr>\n",
       "    <tr>\n",
       "      <th>5516</th>\n",
       "      <th>Синхрон Моносова</th>\n",
       "      <td>-130977.749256</td>\n",
       "    </tr>\n",
       "    <tr>\n",
       "      <th>5098</th>\n",
       "      <th>Ра-II: синхрон \"Борского корабела\"</th>\n",
       "      <td>-102580.771788</td>\n",
       "    </tr>\n",
       "    <tr>\n",
       "      <th>5465</th>\n",
       "      <th>Чемпионат России</th>\n",
       "      <td>-72856.930710</td>\n",
       "    </tr>\n",
       "    <tr>\n",
       "      <th>5159</th>\n",
       "      <th>Первенство правого полушария</th>\n",
       "      <td>-67397.086440</td>\n",
       "    </tr>\n",
       "    <tr>\n",
       "      <th>5074</th>\n",
       "      <th>Синхрон Моносова</th>\n",
       "      <td>-67002.630501</td>\n",
       "    </tr>\n",
       "    <tr>\n",
       "      <th>5741</th>\n",
       "      <th>All Cats Are Beautiful</th>\n",
       "      <td>-59614.913691</td>\n",
       "    </tr>\n",
       "    <tr>\n",
       "      <th>5188</th>\n",
       "      <th>Турнирум</th>\n",
       "      <td>-52081.216815</td>\n",
       "    </tr>\n",
       "    <tr>\n",
       "      <th>5795</th>\n",
       "      <th>Кубок Москвы</th>\n",
       "      <td>-50529.581097</td>\n",
       "    </tr>\n",
       "    <tr>\n",
       "      <th>5796</th>\n",
       "      <th>Кубок Хэллоуина</th>\n",
       "      <td>-49279.952982</td>\n",
       "    </tr>\n",
       "    <tr>\n",
       "      <th>5993</th>\n",
       "      <th>Енисейская знать</th>\n",
       "      <td>-42251.493210</td>\n",
       "    </tr>\n",
       "    <tr>\n",
       "      <th>5052</th>\n",
       "      <th>Молодёжный кубок Европы. Этап 1</th>\n",
       "      <td>-41812.993420</td>\n",
       "    </tr>\n",
       "    <tr>\n",
       "      <th>5928</th>\n",
       "      <th>Угрюмый Ёрш</th>\n",
       "      <td>-41456.873226</td>\n",
       "    </tr>\n",
       "    <tr>\n",
       "      <th>5786</th>\n",
       "      <th>Знатокиада. Синхрон Олимпийского турнира</th>\n",
       "      <td>-40494.864877</td>\n",
       "    </tr>\n",
       "  </tbody>\n",
       "</table>\n",
       "</div>"
      ],
      "text/plain": [
       "                                                        question_inv_complexity\n",
       "tournament_id tournament_name                                                  \n",
       "5025          Кубок городов                                      -413070.180968\n",
       "6149          Чемпионат Санкт-Петербурга. Первая лига            -227101.480729\n",
       "5516          Синхрон Моносова                                   -130977.749256\n",
       "5098          Ра-II: синхрон \"Борского корабела\"                 -102580.771788\n",
       "5465          Чемпионат России                                    -72856.930710\n",
       "5159          Первенство правого полушария                        -67397.086440\n",
       "5074          Синхрон Моносова                                    -67002.630501\n",
       "5741          All Cats Are Beautiful                              -59614.913691\n",
       "5188          Турнирум                                            -52081.216815\n",
       "5795          Кубок Москвы                                        -50529.581097\n",
       "5796          Кубок Хэллоуина                                     -49279.952982\n",
       "5993          Енисейская знать                                    -42251.493210\n",
       "5052          Молодёжный кубок Европы. Этап 1                     -41812.993420\n",
       "5928          Угрюмый Ёрш                                         -41456.873226\n",
       "5786          Знатокиада. Синхрон Олимпийского турнира            -40494.864877"
      ]
     },
     "execution_count": 21,
     "metadata": {},
     "output_type": "execute_result"
    }
   ],
   "source": [
    "tournament_ordered_by_questions[:15]"
   ]
  },
  {
   "cell_type": "markdown",
   "id": "fb70d52d-42a3-49ec-80c6-a034efeaeaec",
   "metadata": {},
   "source": [
    "И на топ снизу:"
   ]
  },
  {
   "cell_type": "code",
   "execution_count": 22,
   "id": "6c09241f-5623-4d41-a0b6-44aec88839ce",
   "metadata": {},
   "outputs": [
    {
     "data": {
      "text/html": [
       "<div>\n",
       "<style scoped>\n",
       "    .dataframe tbody tr th:only-of-type {\n",
       "        vertical-align: middle;\n",
       "    }\n",
       "\n",
       "    .dataframe tbody tr th {\n",
       "        vertical-align: top;\n",
       "    }\n",
       "\n",
       "    .dataframe thead th {\n",
       "        text-align: right;\n",
       "    }\n",
       "</style>\n",
       "<table border=\"1\" class=\"dataframe\">\n",
       "  <thead>\n",
       "    <tr style=\"text-align: right;\">\n",
       "      <th></th>\n",
       "      <th></th>\n",
       "      <th>question_inv_complexity</th>\n",
       "    </tr>\n",
       "    <tr>\n",
       "      <th>tournament_id</th>\n",
       "      <th>tournament_name</th>\n",
       "      <th></th>\n",
       "    </tr>\n",
       "  </thead>\n",
       "  <tbody>\n",
       "    <tr>\n",
       "      <th>5954</th>\n",
       "      <th>Школьная лига. II тур.</th>\n",
       "      <td>101844.236936</td>\n",
       "    </tr>\n",
       "    <tr>\n",
       "      <th>5011</th>\n",
       "      <th>(а)Синхрон-lite. Лига старта. Эпизод IV</th>\n",
       "      <td>103743.801717</td>\n",
       "    </tr>\n",
       "    <tr>\n",
       "      <th>5702</th>\n",
       "      <th>(а)Синхрон-lite. Лига старта. Эпизод IX</th>\n",
       "      <td>105853.598338</td>\n",
       "    </tr>\n",
       "    <tr>\n",
       "      <th>5855</th>\n",
       "      <th>Лига вузов. IV тур</th>\n",
       "      <td>106062.377963</td>\n",
       "    </tr>\n",
       "    <tr>\n",
       "      <th>5853</th>\n",
       "      <th>Лига вузов. II тур</th>\n",
       "      <td>109118.112255</td>\n",
       "    </tr>\n",
       "    <tr>\n",
       "      <th>5698</th>\n",
       "      <th>(а)Синхрон-lite. Лига старта. Эпизод VII</th>\n",
       "      <td>109792.750373</td>\n",
       "    </tr>\n",
       "    <tr>\n",
       "      <th>5955</th>\n",
       "      <th>Школьная лига. III тур.</th>\n",
       "      <td>109970.871778</td>\n",
       "    </tr>\n",
       "    <tr>\n",
       "      <th>5854</th>\n",
       "      <th>Лига вузов. III тур</th>\n",
       "      <td>110891.490685</td>\n",
       "    </tr>\n",
       "    <tr>\n",
       "      <th>5820</th>\n",
       "      <th>ОВСЧ. 3 этап</th>\n",
       "      <td>119205.492017</td>\n",
       "    </tr>\n",
       "    <tr>\n",
       "      <th>5818</th>\n",
       "      <th>ОВСЧ. 1 этап</th>\n",
       "      <td>128859.143341</td>\n",
       "    </tr>\n",
       "    <tr>\n",
       "      <th>5728</th>\n",
       "      <th>Синхрон-lite. Выпуск XXIX</th>\n",
       "      <td>128920.416923</td>\n",
       "    </tr>\n",
       "    <tr>\n",
       "      <th>5752</th>\n",
       "      <th>Балтийский Берег. 2 игра</th>\n",
       "      <td>129063.645379</td>\n",
       "    </tr>\n",
       "    <tr>\n",
       "      <th>5822</th>\n",
       "      <th>ОВСЧ. 5 этап</th>\n",
       "      <td>141975.416116</td>\n",
       "    </tr>\n",
       "    <tr>\n",
       "      <th>5936</th>\n",
       "      <th>Школьная лига. I тур.</th>\n",
       "      <td>142518.503588</td>\n",
       "    </tr>\n",
       "    <tr>\n",
       "      <th>5729</th>\n",
       "      <th>Синхрон-lite. Выпуск XXX</th>\n",
       "      <td>145402.952782</td>\n",
       "    </tr>\n",
       "  </tbody>\n",
       "</table>\n",
       "</div>"
      ],
      "text/plain": [
       "                                                        question_inv_complexity\n",
       "tournament_id tournament_name                                                  \n",
       "5954          Школьная лига. II тур.                              101844.236936\n",
       "5011          (а)Синхрон-lite. Лига старта. Эпизод IV             103743.801717\n",
       "5702          (а)Синхрон-lite. Лига старта. Эпизод IX             105853.598338\n",
       "5855          Лига вузов. IV тур                                  106062.377963\n",
       "5853          Лига вузов. II тур                                  109118.112255\n",
       "5698          (а)Синхрон-lite. Лига старта. Эпизод VII            109792.750373\n",
       "5955          Школьная лига. III тур.                             109970.871778\n",
       "5854          Лига вузов. III тур                                 110891.490685\n",
       "5820          ОВСЧ. 3 этап                                        119205.492017\n",
       "5818          ОВСЧ. 1 этап                                        128859.143341\n",
       "5728          Синхрон-lite. Выпуск XXIX                           128920.416923\n",
       "5752          Балтийский Берег. 2 игра                            129063.645379\n",
       "5822          ОВСЧ. 5 этап                                        141975.416116\n",
       "5936          Школьная лига. I тур.                               142518.503588\n",
       "5729          Синхрон-lite. Выпуск XXX                            145402.952782"
      ]
     },
     "execution_count": 22,
     "metadata": {},
     "output_type": "execute_result"
    }
   ],
   "source": [
    "tournament_ordered_by_questions[-15:]"
   ]
  },
  {
   "cell_type": "markdown",
   "id": "8c5ae1f8-e5d6-487e-9f61-119273611d6c",
   "metadata": {},
   "source": [
    "В целом похоже на правду: вверху, судя по названиям, более сложные турниры."
   ]
  },
  {
   "cell_type": "markdown",
   "id": "1def1603-5f59-4b33-9647-bbc83030a9c6",
   "metadata": {},
   "source": [
    "Теперь попробуем обучить бейзлайн модель не только на 2019 годе, но и на всех предыдущих."
   ]
  },
  {
   "cell_type": "code",
   "execution_count": 28,
   "id": "ceefea5a-1ec4-4275-a498-2c5c657895a4",
   "metadata": {},
   "outputs": [],
   "source": [
    "min_year = int(min([v['dateEnd'][:4] for k, v in tournaments.items()]))"
   ]
  },
  {
   "cell_type": "code",
   "execution_count": 34,
   "id": "806d1b96-95be-40f7-9b08-2124f15bd390",
   "metadata": {},
   "outputs": [],
   "source": [
    "tournaments_train = set()\n",
    "for year in range(min_year, 2020):\n",
    "    tournaments_train = tournaments_train.union(get_tournaments_by_year(str(year)))"
   ]
  },
  {
   "cell_type": "code",
   "execution_count": 36,
   "id": "79b9d8bd-c76d-4b2a-8871-c52563cca312",
   "metadata": {},
   "outputs": [],
   "source": [
    "train_data, _ = split_train_test(results)\n",
    "train_data_df = pd.DataFrame(train_data, columns=['tournament_id', 'team_id', 'player_id', 'question_id', 'result'])"
   ]
  },
  {
   "cell_type": "markdown",
   "id": "9a5de75f-54c7-4681-8a8a-3b445f8326fa",
   "metadata": {},
   "source": [
    "Также добавим в датасет колонку с годом."
   ]
  },
  {
   "cell_type": "code",
   "execution_count": 44,
   "id": "085e72e2-3226-43f4-8f16-aef763d58437",
   "metadata": {},
   "outputs": [
    {
     "name": "stderr",
     "output_type": "stream",
     "text": [
      "100%|█████████████████████████████████████████████████████████████████████████████████████████████████████████████████████████████████████████████████████████████████████████████████████████| 63548684/63548684 [01:18<00:00, 812486.86it/s]\n"
     ]
    }
   ],
   "source": [
    "train_data_df['year'] = train_data_df['tournament_id'].progress_apply(lambda t_id: int(tournaments[t_id]['dateEnd'][:4]))"
   ]
  },
  {
   "cell_type": "code",
   "execution_count": 45,
   "id": "ceace42c-1413-4d80-81e6-bc5b0c5ef206",
   "metadata": {},
   "outputs": [
    {
     "data": {
      "text/html": [
       "<div>\n",
       "<style scoped>\n",
       "    .dataframe tbody tr th:only-of-type {\n",
       "        vertical-align: middle;\n",
       "    }\n",
       "\n",
       "    .dataframe tbody tr th {\n",
       "        vertical-align: top;\n",
       "    }\n",
       "\n",
       "    .dataframe thead th {\n",
       "        text-align: right;\n",
       "    }\n",
       "</style>\n",
       "<table border=\"1\" class=\"dataframe\">\n",
       "  <thead>\n",
       "    <tr style=\"text-align: right;\">\n",
       "      <th></th>\n",
       "      <th>tournament_id</th>\n",
       "      <th>team_id</th>\n",
       "      <th>player_id</th>\n",
       "      <th>question_id</th>\n",
       "      <th>result</th>\n",
       "      <th>year</th>\n",
       "    </tr>\n",
       "  </thead>\n",
       "  <tbody>\n",
       "    <tr>\n",
       "      <th>0</th>\n",
       "      <td>22</td>\n",
       "      <td>1</td>\n",
       "      <td>1560</td>\n",
       "      <td>0</td>\n",
       "      <td>0</td>\n",
       "      <td>2004</td>\n",
       "    </tr>\n",
       "    <tr>\n",
       "      <th>1</th>\n",
       "      <td>22</td>\n",
       "      <td>1</td>\n",
       "      <td>1560</td>\n",
       "      <td>1</td>\n",
       "      <td>1</td>\n",
       "      <td>2004</td>\n",
       "    </tr>\n",
       "    <tr>\n",
       "      <th>2</th>\n",
       "      <td>22</td>\n",
       "      <td>1</td>\n",
       "      <td>1560</td>\n",
       "      <td>2</td>\n",
       "      <td>1</td>\n",
       "      <td>2004</td>\n",
       "    </tr>\n",
       "    <tr>\n",
       "      <th>3</th>\n",
       "      <td>22</td>\n",
       "      <td>1</td>\n",
       "      <td>1560</td>\n",
       "      <td>3</td>\n",
       "      <td>1</td>\n",
       "      <td>2004</td>\n",
       "    </tr>\n",
       "    <tr>\n",
       "      <th>4</th>\n",
       "      <td>22</td>\n",
       "      <td>1</td>\n",
       "      <td>1560</td>\n",
       "      <td>4</td>\n",
       "      <td>0</td>\n",
       "      <td>2004</td>\n",
       "    </tr>\n",
       "    <tr>\n",
       "      <th>...</th>\n",
       "      <td>...</td>\n",
       "      <td>...</td>\n",
       "      <td>...</td>\n",
       "      <td>...</td>\n",
       "      <td>...</td>\n",
       "      <td>...</td>\n",
       "    </tr>\n",
       "    <tr>\n",
       "      <th>63548679</th>\n",
       "      <td>6349</td>\n",
       "      <td>39267</td>\n",
       "      <td>63355</td>\n",
       "      <td>194754</td>\n",
       "      <td>0</td>\n",
       "      <td>2011</td>\n",
       "    </tr>\n",
       "    <tr>\n",
       "      <th>63548680</th>\n",
       "      <td>6349</td>\n",
       "      <td>39267</td>\n",
       "      <td>63355</td>\n",
       "      <td>194755</td>\n",
       "      <td>0</td>\n",
       "      <td>2011</td>\n",
       "    </tr>\n",
       "    <tr>\n",
       "      <th>63548681</th>\n",
       "      <td>6349</td>\n",
       "      <td>39267</td>\n",
       "      <td>63355</td>\n",
       "      <td>194756</td>\n",
       "      <td>0</td>\n",
       "      <td>2011</td>\n",
       "    </tr>\n",
       "    <tr>\n",
       "      <th>63548682</th>\n",
       "      <td>6349</td>\n",
       "      <td>39267</td>\n",
       "      <td>63355</td>\n",
       "      <td>194757</td>\n",
       "      <td>0</td>\n",
       "      <td>2011</td>\n",
       "    </tr>\n",
       "    <tr>\n",
       "      <th>63548683</th>\n",
       "      <td>6349</td>\n",
       "      <td>39267</td>\n",
       "      <td>63355</td>\n",
       "      <td>194758</td>\n",
       "      <td>0</td>\n",
       "      <td>2011</td>\n",
       "    </tr>\n",
       "  </tbody>\n",
       "</table>\n",
       "<p>63548684 rows × 6 columns</p>\n",
       "</div>"
      ],
      "text/plain": [
       "          tournament_id  team_id  player_id  question_id  result  year\n",
       "0                    22        1       1560            0       0  2004\n",
       "1                    22        1       1560            1       1  2004\n",
       "2                    22        1       1560            2       1  2004\n",
       "3                    22        1       1560            3       1  2004\n",
       "4                    22        1       1560            4       0  2004\n",
       "...                 ...      ...        ...          ...     ...   ...\n",
       "63548679           6349    39267      63355       194754       0  2011\n",
       "63548680           6349    39267      63355       194755       0  2011\n",
       "63548681           6349    39267      63355       194756       0  2011\n",
       "63548682           6349    39267      63355       194757       0  2011\n",
       "63548683           6349    39267      63355       194758       0  2011\n",
       "\n",
       "[63548684 rows x 6 columns]"
      ]
     },
     "execution_count": 45,
     "metadata": {},
     "output_type": "execute_result"
    }
   ],
   "source": [
    "train_data_df"
   ]
  },
  {
   "cell_type": "code",
   "execution_count": 37,
   "id": "45e58ff3-6cde-44ab-a86e-d031e7032826",
   "metadata": {},
   "outputs": [],
   "source": [
    "ohe = OneHotEncoder(handle_unknown='ignore')\n",
    "\n",
    "X_train = ohe.fit_transform(train_data_df[['player_id', 'question_id']])\n",
    "y_train = train_data_df['result']"
   ]
  },
  {
   "cell_type": "code",
   "execution_count": 39,
   "id": "6016b81a-c080-485b-b590-8ce9ba2f3582",
   "metadata": {},
   "outputs": [
    {
     "data": {
      "text/plain": [
       "LogisticRegression(random_state=42)"
      ]
     },
     "execution_count": 39,
     "metadata": {},
     "output_type": "execute_result"
    }
   ],
   "source": [
    "baseline_model = LogisticRegression(random_state=42)\n",
    "baseline_model.fit(X_train, y_train)"
   ]
  },
  {
   "cell_type": "code",
   "execution_count": 40,
   "id": "f577f7d4-7ca1-4a24-a414-4b986e422b70",
   "metadata": {},
   "outputs": [],
   "source": [
    "X_test = ohe.transform(test_data_df[['player_id', 'question_id']])\n",
    "predicted = baseline_model.predict_proba(X_test)"
   ]
  },
  {
   "cell_type": "code",
   "execution_count": 41,
   "id": "582e701b-2f83-4904-be45-4a9a1a57b42c",
   "metadata": {},
   "outputs": [
    {
     "name": "stderr",
     "output_type": "stream",
     "text": [
      "100%|████████████████████████████████████████████████████████████████████████████████████████████████████████████████████████████████████████████████████████████████████████████████████████████████| 279698/279698 [09:46<00:00, 477.18it/s]\n"
     ]
    },
    {
     "data": {
      "text/plain": [
       "{'spearmanr': 0.8072826983389103, 'kendalltau': 0.6535829656892439}"
      ]
     },
     "execution_count": 41,
     "metadata": {},
     "output_type": "execute_result"
    }
   ],
   "source": [
    "simplefilter(\"ignore\", category=SpearmanRConstantInputWarning)\n",
    "\n",
    "train_predicted = baseline_model.predict_proba(X_train)\n",
    "calc_metrics(train_data_df, train_predicted[:, 1])"
   ]
  },
  {
   "cell_type": "code",
   "execution_count": 42,
   "id": "313073bd-4496-4f51-ae25-f0a89777a1dd",
   "metadata": {},
   "outputs": [
    {
     "name": "stderr",
     "output_type": "stream",
     "text": [
      "100%|██████████████████████████████████████████████████████████████████████████████████████████████████████████████████████████████████████████████████████████████████████████████████████████████████| 16992/16992 [00:31<00:00, 540.80it/s]\n"
     ]
    },
    {
     "data": {
      "text/plain": [
       "{'spearmanr': 0.7171060627801068, 'kendalltau': 0.5631238148342792}"
      ]
     },
     "execution_count": 42,
     "metadata": {},
     "output_type": "execute_result"
    }
   ],
   "source": [
    "calc_metrics(test_data_df, predicted[:, 1])"
   ]
  },
  {
   "cell_type": "markdown",
   "id": "d65f5eed-2dcb-4417-94bf-85f736d0cab4",
   "metadata": {},
   "source": [
    "Как видим, качество стало хуже (как на train, так и на test). Видимо, это связано с тем, что данных стало больше, и поэтому надо бы увеличить параметр max_iter, но, боюсь, ноутбук этого уже может не осилить. Кроме того, не очень понятно, насколько справедливо тогда будет сравнивать метрики со старым бейзлайном.\n",
    "\n",
    "Тем не менее, несмотря на то, что улучшения метрик на этом этапе добиться не удалось, но попробуем побороться с эффектом того, что первые неудачные турниры участника будут тянуть его рейтинг вниз всю жизнь. Для этого, вместо того, чтобы просто рассматривать только, например, последний год, попробуем брать всю историю, но более старым годам давать меньший вес. Для этого в принципе подойдет любая монотонно возрастающая функция. Возьмем в качестве примера $f(x) = x^2$, т.е. почтитаем веса следующим образом:"
   ]
  },
  {
   "cell_type": "code",
   "execution_count": 53,
   "id": "20adfb79-fc3e-403e-a115-255dd27c9cdb",
   "metadata": {},
   "outputs": [],
   "source": [
    "min_presented_year = train_data_df['year'].values.min()\n",
    "weights = (train_data_df['year'].values - min_presented_year + 1) ** 2"
   ]
  },
  {
   "cell_type": "markdown",
   "id": "f7429e12-cf33-4d1d-ba63-168bf3ffd0e0",
   "metadata": {},
   "source": [
    "И теперь заново обучим модель:"
   ]
  },
  {
   "cell_type": "code",
   "execution_count": 54,
   "id": "415da6b0-f575-4581-8451-1215f53e6d6d",
   "metadata": {},
   "outputs": [
    {
     "data": {
      "text/plain": [
       "LogisticRegression(random_state=42)"
      ]
     },
     "execution_count": 54,
     "metadata": {},
     "output_type": "execute_result"
    }
   ],
   "source": [
    "baseline_model = LogisticRegression(random_state=42)\n",
    "baseline_model.fit(X_train, y_train, sample_weight=weights)"
   ]
  },
  {
   "cell_type": "code",
   "execution_count": 55,
   "id": "4ceb3dcc-a4e5-486e-84de-e381cdf9ff5c",
   "metadata": {},
   "outputs": [],
   "source": [
    "X_test = ohe.transform(test_data_df[['player_id', 'question_id']])\n",
    "predicted = baseline_model.predict_proba(X_test)"
   ]
  },
  {
   "cell_type": "code",
   "execution_count": 56,
   "id": "009ace43-7187-40f7-8aa2-d54e9579b085",
   "metadata": {},
   "outputs": [
    {
     "name": "stderr",
     "output_type": "stream",
     "text": [
      "100%|████████████████████████████████████████████████████████████████████████████████████████████████████████████████████████████████████████████████████████████████████████████████████████████████| 279698/279698 [08:51<00:00, 526.63it/s]\n"
     ]
    },
    {
     "data": {
      "text/plain": [
       "{'spearmanr': 0.8081028859478474, 'kendalltau': 0.6543193982221512}"
      ]
     },
     "execution_count": 56,
     "metadata": {},
     "output_type": "execute_result"
    }
   ],
   "source": [
    "simplefilter(\"ignore\", category=SpearmanRConstantInputWarning)\n",
    "\n",
    "train_predicted = baseline_model.predict_proba(X_train)\n",
    "calc_metrics(train_data_df, train_predicted[:, 1])"
   ]
  },
  {
   "cell_type": "code",
   "execution_count": 57,
   "id": "1d3d910a-ca05-480e-bc2e-d271c4b70a8d",
   "metadata": {},
   "outputs": [
    {
     "name": "stderr",
     "output_type": "stream",
     "text": [
      "100%|██████████████████████████████████████████████████████████████████████████████████████████████████████████████████████████████████████████████████████████████████████████████████████████████████| 16992/16992 [00:30<00:00, 562.20it/s]\n"
     ]
    },
    {
     "data": {
      "text/plain": [
       "{'spearmanr': 0.7299030714183263, 'kendalltau': 0.5762940760837115}"
      ]
     },
     "execution_count": 57,
     "metadata": {},
     "output_type": "execute_result"
    }
   ],
   "source": [
    "calc_metrics(test_data_df, predicted[:, 1])"
   ]
  },
  {
   "cell_type": "markdown",
   "id": "e7135d2a-1d28-42f8-a519-3e8b6c881b2e",
   "metadata": {},
   "source": [
    "Видим, что метрики действительно улучшились! Т.е. такой подход в целом имеет смысл."
   ]
  },
  {
   "cell_type": "code",
   "execution_count": null,
   "id": "b0992b6c-05c0-4401-b04e-426099560abc",
   "metadata": {},
   "outputs": [],
   "source": []
  }
 ],
 "metadata": {
  "kernelspec": {
   "display_name": "Python 3 (ipykernel)",
   "language": "python",
   "name": "python3"
  },
  "language_info": {
   "codemirror_mode": {
    "name": "ipython",
    "version": 3
   },
   "file_extension": ".py",
   "mimetype": "text/x-python",
   "name": "python",
   "nbconvert_exporter": "python",
   "pygments_lexer": "ipython3",
   "version": "3.9.12"
  }
 },
 "nbformat": 4,
 "nbformat_minor": 5
}
